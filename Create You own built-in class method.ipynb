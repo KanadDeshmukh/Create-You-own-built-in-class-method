{
 "cells": [
  {
   "cell_type": "markdown",
   "id": "55fc1e25",
   "metadata": {},
   "source": [
    "Write a Python class to implement pow(x, n)\n",
    "\n"
   ]
  },
  {
   "cell_type": "code",
   "execution_count": 12,
   "id": "b397765f",
   "metadata": {},
   "outputs": [],
   "source": [
    "class power:\n",
    "\n",
    "    def pw(x,n):\n",
    "\n",
    "        return pow(x,n)\n",
    "\n"
   ]
  },
  {
   "cell_type": "code",
   "execution_count": 13,
   "id": "8e9ac877",
   "metadata": {},
   "outputs": [
    {
     "name": "stdout",
     "output_type": "stream",
     "text": [
      "100\n"
     ]
    }
   ],
   "source": [
    "print(power.pw(10,2))"
   ]
  }
 ],
 "metadata": {
  "kernelspec": {
   "display_name": "Python 3 (ipykernel)",
   "language": "python",
   "name": "python3"
  },
  "language_info": {
   "codemirror_mode": {
    "name": "ipython",
    "version": 3
   },
   "file_extension": ".py",
   "mimetype": "text/x-python",
   "name": "python",
   "nbconvert_exporter": "python",
   "pygments_lexer": "ipython3",
   "version": "3.9.6"
  }
 },
 "nbformat": 4,
 "nbformat_minor": 5
}
